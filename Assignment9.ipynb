{
 "cells": [
  {
   "cell_type": "markdown",
   "id": "ca6b086c-ccf0-4285-8dd9-9ab5c02327f0",
   "metadata": {},
   "source": [
    "Q1. What is multithreading in python? Why is it used? Name the module used to handle threads in python"
   ]
  },
  {
   "cell_type": "markdown",
   "id": "18b399bc-defd-43ec-b5af-b105bbe97082",
   "metadata": {},
   "source": [
    "Ans. Multithreading is a stringing procedure in Python programming to run various strings simultaneously by quickly exchanging between strings with a central processor help (called setting exchanging). \n",
    "The goal of multithreading is to complete multiple tasks at the same time, which improves application rendering and performance.In addition, it makes it possible to share its data space with the primary threads of a process, making it easier than with individual processes to share information and communicate with other threads.\n",
    "Module used-There are two main modules of multithreading used to handle threads in Python.\n",
    "    (1)The thread module\n",
    "    (2)The threading module"
   ]
  },
  {
   "cell_type": "markdown",
   "id": "01bee3b8-f879-49ed-9dec-1355767861f9",
   "metadata": {},
   "source": [
    "Q2. Why threading module used? Write the use of the following functions\n",
    "    (1) activeCount()\n",
    "    (2)currentThread()\n",
    "    (3)enumerate()"
   ]
  },
  {
   "cell_type": "markdown",
   "id": "3edb06a9-bf11-4555-982b-c8323a668c4b",
   "metadata": {},
   "source": [
    "Ans. The threading module is a high-level implementation of multithreading used to deploy an application in Python. To use multithreading, we need to import the threading module in Python Program.\n",
    "(1) activecount()--In Python, the method threading.active_co unt() from the threading module is used to count the currently active or running threads.\n",
    "(2) currentThread()--The threading. current_thread() is an inbuilt method of the threading module, it is used to return the current Thread object, which corresponds to the caller's thread of control.\n",
    "(3) enumerate()--Enumerate is a built-in function in python that allows you to keep track of the number of iterations (loops) in a loop. This enumerate object contains a count (from the start, which always defaults to 0) and a value obtained from iterating over the iterable object."
   ]
  },
  {
   "cell_type": "markdown",
   "id": "8c32d60a-932d-4b3a-92a3-e5b98362523b",
   "metadata": {},
   "source": [
    "Q3. Explain the following functions\n",
    "(1) run()\n",
    "(2) start()\n",
    "(3) join()\n",
    "(4) isAlive()"
   ]
  },
  {
   "cell_type": "raw",
   "id": "051ab734-fcd0-408a-a83c-6396e332c82e",
   "metadata": {},
   "source": [
    "Ans. (1)run() -- A run() method is used to define a thread's activity and can be overridden by a class that extends the threads class.\n",
    "(2) start() -- A start() method is used to initiate the activity of a thread. And it calls only once for each thread so that the execution of the thread can begin.\n",
    "(3) join() -- A join() method is used to block the execution of another code until the thread terminates.\n",
    "(4) isAlive() -- The isAlive() method checks whether a thread is still executing."
   ]
  },
  {
   "cell_type": "markdown",
   "id": "79ab656e-c0c9-457e-b3d8-edf73ec3ecf8",
   "metadata": {},
   "source": [
    "Q4. Write a python program to create two threads. Thread one must print the list of squares and thread\n",
    "two must print the list of cubes"
   ]
  },
  {
   "cell_type": "code",
   "execution_count": 3,
   "id": "86b7b007-1b3c-4013-9b44-0201a1820cb7",
   "metadata": {},
   "outputs": [
    {
     "name": "stdout",
     "output_type": "stream",
     "text": [
      "Square: 100\n",
      "Cube: 1000\n"
     ]
    }
   ],
   "source": [
    "import threading\n",
    "def print_cube(num):\n",
    "\t# function to print cube of given num\n",
    "\tprint(\"Cube: {}\" .format(num * num * num))\n",
    "def print_square(num):\n",
    "\t# function to print square of given num\n",
    "\tprint(\"Square: {}\" .format(num * num))\n",
    "if __name__ ==\"__main__\":\n",
    "\tt1 = threading.Thread(target=print_square, args=(10,))\n",
    "\tt2 = threading.Thread(target=print_cube, args=(10,))\n",
    "\t# starting thread 1\n",
    "\tt1.start()\n",
    "\t# starting thread 2\n",
    "\tt2.start()\n",
    "\t# wait until thread 1 is completely executed\n",
    "\tt1.join()\n",
    "\t# wait until thread 2 is completely executed\n",
    "\tt2.join()\n"
   ]
  },
  {
   "cell_type": "markdown",
   "id": "5f0dfe18-1b0e-4464-a220-dc1282a430d2",
   "metadata": {},
   "source": [
    "Q5. State advantages and disadvantages of multithreading"
   ]
  },
  {
   "cell_type": "markdown",
   "id": "e21235ec-c4c2-4168-a0e5-e3a50a68eaa3",
   "metadata": {},
   "source": [
    "Ans. The following are the advantages of using Python for multithreading:\n",
    "\n",
    "(1)It guarantees powerful usage of PC framework assets.\n",
    "(2)Applications with multiple threads respond faster.\n",
    "(3)It is more cost-effective because it shares resources and its state with sub-threads (child).\n",
    "(4)It makes the multiprocessor engineering more viable because of closeness.\n",
    "(5)By running multiple threads simultaneously, it cuts down on time.\n",
    "(6)To store multiple threads, the system does not require a lot of memory.\n",
    "\n",
    "Multithreading also have some some common disadvantages:\n",
    "    \n",
    "(1)Complex debugging and testing processes.\n",
    "(2)Result is sometimes unpredictable.\n",
    "(3)Overhead switching of context.\n",
    "(4)Increased potential for deadlock occurrence.\n",
    "(5)Increased difficulty level in writing a program.\n",
    "(6)general: increased complexity."
   ]
  },
  {
   "cell_type": "markdown",
   "id": "3cb39504-074b-4f65-b066-ed9155047b78",
   "metadata": {},
   "source": [
    "Q6. Explain deadlocks and race conditions."
   ]
  },
  {
   "cell_type": "markdown",
   "id": "c52270b4-0a81-4893-afc0-94422d0e4806",
   "metadata": {},
   "source": [
    "Ans. Deadlock --Deadlock describes a condition in which two or more threads are blocked (hung) forever because they are waiting for each other. \n",
    "RAce conditions -- A race condition occurs when two threads access a shared variable at the same time."
   ]
  }
 ],
 "metadata": {
  "kernelspec": {
   "display_name": "Python 3 (ipykernel)",
   "language": "python",
   "name": "python3"
  },
  "language_info": {
   "codemirror_mode": {
    "name": "ipython",
    "version": 3
   },
   "file_extension": ".py",
   "mimetype": "text/x-python",
   "name": "python",
   "nbconvert_exporter": "python",
   "pygments_lexer": "ipython3",
   "version": "3.10.8"
  }
 },
 "nbformat": 4,
 "nbformat_minor": 5
}
