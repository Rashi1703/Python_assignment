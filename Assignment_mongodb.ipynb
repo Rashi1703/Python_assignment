{
 "cells": [
  {
   "cell_type": "markdown",
   "id": "0b452d5d-80ca-45e6-bf22-97750265f0e0",
   "metadata": {},
   "source": [
    "<h4>Q1. What is MongoDB? Explain non-relational databases in short. In which scenarios it is preferred to use\n",
    "MongoDB over SQL databases?"
   ]
  },
  {
   "cell_type": "markdown",
   "id": "40a3c0b4-6d98-47e3-9491-b98d968c9863",
   "metadata": {},
   "source": [
    "Ans. MongoDB:\n",
    "MongoDB is an open source NoSQL database management program. \n",
    "\n",
    "Non-relational databases:\n",
    "A non-relational database is a database that does not use the tabular schema of rows and columns found in most traditional database systems. Instead, non-relational databases use a storage model that is optimized for the specific requirements of the type of data being stored.\n",
    "\n",
    "Scenarios:\n",
    "SQL databases are used to store structured data while NoSQL databases like MongoDB are used to save unstructured data. MongoDB is used to save unstructured data in JSON format."
   ]
  },
  {
   "cell_type": "markdown",
   "id": "8024e14f-a7a0-4894-b709-0addbe634644",
   "metadata": {},
   "source": [
    "<h4>Q2. State and Explain the features of MongoDB."
   ]
  },
  {
   "cell_type": "markdown",
   "id": "9b14fc12-7cbc-41b0-8bad-536cee8a89b3",
   "metadata": {},
   "source": [
    "Ans.Features of MongoDB\n",
    "Features of MongoDB include the following:\n",
    "\n",
    "Replication. A replica set is two or more MongoDB instances used to provide high availability. Replica sets are made of primary and secondary servers. The primary MongoDB server performs all the read and write operations, while the secondary replica keeps a copy of the data. If a primary replica fails, the secondary replica is then used.\n",
    "\n",
    "Scalability. MongoDB supports vertical and horizontal scaling. Vertical scaling works by adding more power to an existing machine, while horizontal scaling works by adding more machines to a user's resources.\n",
    "\n",
    "Load balancing. MongoDB handles load balancing without the need for a separate, dedicated load balancer, through either vertical or horizontal scaling.\n",
    "\n",
    "Schema-less. MongoDB is a schema-less database, which means the database can manage data without the need for a blueprint.\n",
    "\n",
    "Document. Data in MongoDB is stored in documents with key-value pairs instead of rows and columns, which makes the data more flexible when compared to SQL databases."
   ]
  },
  {
   "cell_type": "markdown",
   "id": "9faec07e-b49e-45c1-8b1b-e652aac40320",
   "metadata": {},
   "source": [
    "<h4>Q3. Write a code to connect MongoDB to Python. Also, create a database and a collection in MongoDB."
   ]
  },
  {
   "cell_type": "markdown",
   "id": "384133f6-9d30-4fe6-bdf9-830478acfb58",
   "metadata": {},
   "source": [
    "from pymongo.mongo_client import MongoClient\n",
    "\n",
    "uri = \"mongodb+srv://<username>:<password>@cluster0.urqn4jo.mongodb.net/?retryWrites=true&w=majority\"\n",
    "\n",
    "# Create a new client and connect to the server\n",
    "client = MongoClient(uri)\n",
    "\n",
    "# Send a ping to confirm a successful connection\n",
    "\n",
    "try:\n",
    "    client.admin.command('ping')\n",
    "    print(\"Pinged your deployment. You successfully connected to MongoDB!\")\n",
    "except Exception as e:\n",
    "    print(e)\n",
    "\n",
    "db=client['test']\n",
    "col=db.create_collection('collections')\n",
    "col.insert_one({\"ID\":\"101\",\n",
    "\"Name\":\"Rashi\"})"
   ]
  },
  {
   "cell_type": "markdown",
   "id": "324eff20-8e67-4a44-9c4b-00e6a138abb7",
   "metadata": {},
   "source": [
    "<h4>Q4. Using the database and the collection created in question number 3, write a code to insert one record,\n",
    "and insert many records. Use the find() and find_one() methods to print the inserted record."
   ]
  },
  {
   "cell_type": "markdown",
   "id": "6ba5b4d9-1ae6-4325-b76e-805e83d1115f",
   "metadata": {},
   "source": [
    "col.insert_one({\"ID\":\"101\",\n",
    "\"Name\":\"Rashi\"})\n",
    "\n",
    "col.insert_many([{'Name': \"Bablu\", 'Marks': 550}, \n",
    "                                {'Name': \"Chintu\", 'Marks': 430},\n",
    "                                {'Name': \"Devanshu\", 'Marks': 499}\n",
    "])\n",
    "\n",
    "for i in col.find({'Marks':{'$gte':400}}):\n",
    "    print(i)\n",
    "\n",
    "print(col.find_one({'Marks':{'$gte':400}})"
   ]
  },
  {
   "cell_type": "markdown",
   "id": "a29c521f-fe70-42c8-859e-194a09fa44d1",
   "metadata": {},
   "source": [
    "<h4>Q5. Explain how you can use the find() method to query the MongoDB database. Write a simple code to\n",
    "demonstrate this."
   ]
  },
  {
   "cell_type": "markdown",
   "id": "bb211320-e67e-46ad-8543-357057b925cc",
   "metadata": {},
   "source": [
    "for i in col.find({'Marks':{'$gte':400}}):\n",
    "    print(i)"
   ]
  },
  {
   "cell_type": "markdown",
   "id": "51877b3d-d44d-495b-ac99-9315d12655f2",
   "metadata": {},
   "source": [
    "<h4>Q6. Explain the sort() method. Give an example to demonstrate sorting in MongoDB."
   ]
  },
  {
   "cell_type": "markdown",
   "id": "d27bfdd2-d89a-4511-bf91-dc829e55fd8b",
   "metadata": {},
   "source": [
    "Ans.The sort() method specifies the order in which the query returns the matching documents from the given collection. You must apply this method to the cursor before retrieving any documents from the database. It takes a document as a parameter that contains a field: value pair that defines the sort order of the result set. The value is 1 or -1 specifying an ascending or descending sort respectively.\n",
    "\n",
    "Example:\n",
    "for i in col.find().sort({'Marks':1}):\n",
    "    print(i)"
   ]
  },
  {
   "cell_type": "markdown",
   "id": "bef7d9f5-9df2-4c04-9b29-4eb9390c21e9",
   "metadata": {},
   "source": [
    "<h4>Q7. Explain why delete_one(), delete_many(), and drop() is used."
   ]
  },
  {
   "cell_type": "markdown",
   "id": "23f8ef6d-1027-4330-8781-87c065d486b4",
   "metadata": {},
   "source": [
    "Ans.\n",
    "delete_one():\n",
    "In MongoDB, a single document can be deleted by the method delete_one(). The first parameter of the method would be a query object which defines the document to be deleted. If there are multiple documents matching the filter query, only the first appeared document would be deleted. \n",
    "\n",
    "Delete_many():\n",
    "Delete_many() is used when one needs to delete more than one document. A query object containing which document to be deleted is created and is passed as the first parameter to the delete_many().\n",
    "\n",
    "drop():\n",
    "MongoDB's db.collection.drop() is used to drop a collection from the database."
   ]
  }
 ],
 "metadata": {
  "kernelspec": {
   "display_name": "Python 3 (ipykernel)",
   "language": "python",
   "name": "python3"
  },
  "language_info": {
   "codemirror_mode": {
    "name": "ipython",
    "version": 3
   },
   "file_extension": ".py",
   "mimetype": "text/x-python",
   "name": "python",
   "nbconvert_exporter": "python",
   "pygments_lexer": "ipython3",
   "version": "3.10.8"
  }
 },
 "nbformat": 4,
 "nbformat_minor": 5
}
