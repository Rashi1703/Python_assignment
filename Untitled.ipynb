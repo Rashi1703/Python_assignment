{
 "cells": [
  {
   "cell_type": "markdown",
   "id": "9d8f13e4-69f7-4aad-9f99-14ad0612bcf8",
   "metadata": {},
   "source": [
    "Q1. How do you comment code in Python? What are the different types of comments?"
   ]
  },
  {
   "cell_type": "markdown",
   "id": "1160e738-8a9d-4ff7-a3b8-37ff6b67e2d5",
   "metadata": {},
   "source": [
    "Ans. There are 2 types of comments-\n",
    "    (1) Single line comment\n",
    "        (a)Full line comment- Physical line starting with #\n",
    "            Ex. #This is a comment\n",
    "        (b)Inline Comments-It starts in the middle of the physical line with #\n",
    "            Ex. a=2 #Declaration and initializar=tion of variable\n",
    "    (2) Multiline comment-\n",
    "        Type comment as a triple quoted string\n",
    "        Ex. '''This is\n",
    "                Multiline\n",
    "                Comment'''"
   ]
  },
  {
   "cell_type": "markdown",
   "id": "0a5013e2-cd8b-4d56-9379-63d7b395521f",
   "metadata": {},
   "source": [
    "Q2. What are variables in Python? How do you declare and assign values to variables?\n"
   ]
  },
  {
   "cell_type": "markdown",
   "id": "6945ed96-c3a5-4c35-85e2-26f542d3b976",
   "metadata": {},
   "source": [
    "Ans. A variable is a string of characters and numbers associated with a piece of information.\n",
    "     The assignment operator, denoted by the “=” symbol, is the operator that is used to assign values to variables in Python.\n",
    "     Ex. x=1"
   ]
  },
  {
   "cell_type": "markdown",
   "id": "3837694f-5958-4f4e-b900-5ed2a058887f",
   "metadata": {},
   "source": [
    "Q3. How do you convert one data type to another in Python?\n"
   ]
  },
  {
   "cell_type": "markdown",
   "id": "ae0d5d6f-578a-459f-9019-34e935f98f92",
   "metadata": {},
   "source": [
    "Ans. Python defines type conversion functions like int(), float(), str() to directly convert one data type into another. \n",
    "This type of conversion is also called typecasting"
   ]
  },
  {
   "cell_type": "markdown",
   "id": "2cb16380-aa9b-408d-88f9-a47066148d4b",
   "metadata": {},
   "source": [
    "Q4. How do you write and execute a Python script from the command line?\n"
   ]
  },
  {
   "cell_type": "code",
   "execution_count": null,
   "id": "509a32fe-2ff6-4da4-94f1-94bdfe14add3",
   "metadata": {},
   "outputs": [],
   "source": [
    "Ans. The most basic and easy way to run a Python script is by using the python command. You need to open a command line and type the word python followed by the path to your script file like this: python first_script.py Hello World! Then you hit the ENTER button from the keyboard, and that's it."
   ]
  },
  {
   "cell_type": "raw",
   "id": "359b7a95-de57-4726-8fdb-495bb149263a",
   "metadata": {},
   "source": [
    "Q5. Given a list my_list = [1, 2, 3, 4, 5], write the code to slice the list and obtain the sub-list [2, 3].\n",
    "Ans.Code---"
   ]
  },
  {
   "cell_type": "code",
   "execution_count": 1,
   "id": "bd096352-f419-4905-9710-fd7c5ffdc7c6",
   "metadata": {},
   "outputs": [
    {
     "data": {
      "text/plain": [
       "[2, 3]"
      ]
     },
     "execution_count": 1,
     "metadata": {},
     "output_type": "execute_result"
    }
   ],
   "source": [
    "my_list = [1, 2, 3, 4, 5]\n",
    "my_list[1:3]"
   ]
  },
  {
   "cell_type": "markdown",
   "id": "cfe7417a-92db-4573-b71b-127fec617562",
   "metadata": {},
   "source": [
    "Q6. What is a complex number in mathematics, and how is it represented in Python?\n",
    "Ans. In mathematics, a complex number is an element of a number system that extends the real numbers with a specific element denoted i, called the imaginary unit and satisfying the equation ; every complex number can be expressed in the form , where a and b are real numbers.\n",
    "In Python,it is written in the form of (x + yj) where x and y are real numbers and j is an imaginary number which is the square root of -1."
   ]
  },
  {
   "cell_type": "markdown",
   "id": "2ba463ec-2db8-4a85-b6d6-114c844ed376",
   "metadata": {},
   "source": [
    "Q7. What is the correct way to declare a variable named age and assign the value 25 to it?\n",
    "Ans. age=25"
   ]
  },
  {
   "cell_type": "markdown",
   "id": "8f27ea80-3bf8-435a-bef3-50ddd345ffd3",
   "metadata": {},
   "source": [
    "Q8. Declare a variable named price and assign the value 9.99 to it. What data type does this variable\n",
    "belong to?"
   ]
  },
  {
   "cell_type": "code",
   "execution_count": 3,
   "id": "5f03882a-3336-408c-95f1-572fc35861c5",
   "metadata": {},
   "outputs": [
    {
     "data": {
      "text/plain": [
       "float"
      ]
     },
     "execution_count": 3,
     "metadata": {},
     "output_type": "execute_result"
    }
   ],
   "source": [
    "price=9.99\n",
    "type(price)"
   ]
  },
  {
   "cell_type": "markdown",
   "id": "b69fa3e5-9330-4b7e-abac-4554ad41217f",
   "metadata": {},
   "source": [
    "Q9. Create a variable named name and assign your full name to it as a string. How would you print the\n",
    "value of this variable?"
   ]
  },
  {
   "cell_type": "code",
   "execution_count": 4,
   "id": "422ff268-72f1-43d4-96ad-34945ec39c15",
   "metadata": {},
   "outputs": [
    {
     "name": "stdout",
     "output_type": "stream",
     "text": [
      "Rashi Jain\n"
     ]
    }
   ],
   "source": [
    "name=\"Rashi Jain\"\n",
    "print(name)"
   ]
  },
  {
   "cell_type": "markdown",
   "id": "2fbfa464-89fd-4603-a2ec-f703f058ca83",
   "metadata": {},
   "source": [
    "Q10. Given the string \"Hello, World!\", extract the substring \"World\"."
   ]
  },
  {
   "cell_type": "code",
   "execution_count": 6,
   "id": "2533d6d9-5445-4419-a03a-fe862d76839b",
   "metadata": {},
   "outputs": [
    {
     "data": {
      "text/plain": [
       "'World'"
      ]
     },
     "execution_count": 6,
     "metadata": {},
     "output_type": "execute_result"
    }
   ],
   "source": [
    "s=\"Hello, World!\"\n",
    "s[7:12]"
   ]
  },
  {
   "cell_type": "markdown",
   "id": "46a733eb-fe81-409e-9837-e1fd10d0c4c0",
   "metadata": {},
   "source": [
    "Q11. Create a variable named \"is_student\" and assign it a boolean value indicating whether you are\n",
    "currently a student or not."
   ]
  },
  {
   "cell_type": "code",
   "execution_count": 8,
   "id": "14a79e63-7a0d-4afc-94b5-07fdcf2700aa",
   "metadata": {},
   "outputs": [
    {
     "data": {
      "text/plain": [
       "True"
      ]
     },
     "execution_count": 8,
     "metadata": {},
     "output_type": "execute_result"
    }
   ],
   "source": [
    "is_student=True\n",
    "is_student"
   ]
  },
  {
   "cell_type": "code",
   "execution_count": 9,
   "id": "c974f44a-0b24-457d-98d0-4c64340cfc70",
   "metadata": {},
   "outputs": [
    {
     "data": {
      "text/plain": [
       "False"
      ]
     },
     "execution_count": 9,
     "metadata": {},
     "output_type": "execute_result"
    }
   ],
   "source": [
    "is_student=False\n",
    "is_student"
   ]
  }
 ],
 "metadata": {
  "kernelspec": {
   "display_name": "Python 3 (ipykernel)",
   "language": "python",
   "name": "python3"
  },
  "language_info": {
   "codemirror_mode": {
    "name": "ipython",
    "version": 3
   },
   "file_extension": ".py",
   "mimetype": "text/x-python",
   "name": "python",
   "nbconvert_exporter": "python",
   "pygments_lexer": "ipython3",
   "version": "3.10.8"
  }
 },
 "nbformat": 4,
 "nbformat_minor": 5
}
