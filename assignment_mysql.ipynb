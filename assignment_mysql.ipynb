{
 "cells": [
  {
   "cell_type": "markdown",
   "id": "7948ed9f-7003-4bb4-bc4e-74c0872aa90d",
   "metadata": {},
   "source": [
    "<h4>Q1. What is a database? Differentiate between SQL and NoSQL databases."
   ]
  },
  {
   "cell_type": "markdown",
   "id": "aadd0206-5961-4f8b-91ad-7dc6422c1828",
   "metadata": {},
   "source": [
    "Ans. A database is an organized collection of structured information, or data, typically stored electronically in a computer system. A database is usually controlled by a database management system (DBMS).\n",
    "\n",
    "Difference between SQL and NoSQL:\n",
    "(1)SQL databases are vertically scalable, while NoSQL databases are horizontally scalable.\n",
    "(2)SQL databases are table-based, while NoSQL databases are document, key-value, graph, or wide-column stores.\n",
    "(3)SQL databases are better for multi-row transactions, while NoSQL is better for unstructured data like documents or JSON."
   ]
  },
  {
   "cell_type": "markdown",
   "id": "7dff31ad-6d75-4a2c-bd22-816abd9d3d57",
   "metadata": {},
   "source": [
    "<h4>Q2. What is DDL? Explain why CREATE, DROP, ALTER, and TRUNCATE are used with an example."
   ]
  },
  {
   "cell_type": "markdown",
   "id": "5966c487-d022-4ce9-911d-f83dd14323eb",
   "metadata": {},
   "source": [
    "Ans.DDL is data definition language and is useful for defining the schema and structure of the database. Commands like DROP, CREATE, ALTER, TRUNCATE, COMMENT, and RENAME are used.\n",
    "\n",
    "Command-1 :\n",
    "CREATE :\n",
    "This command is used to create a new table in SQL. The user has to give information like table name, column names, and their datatypes.\n",
    "\n",
    "Syntax –\n",
    "\n",
    "CREATE TABLE table_name\n",
    "(\n",
    "column_1 datatype,\n",
    "column_2 datatype,\n",
    "column_3 datatype,\n",
    "....\n",
    ");\n",
    "\n",
    "Command-2 :\n",
    "ALTER :\n",
    "This command is used to add, delete or change columns in the existing table. The user needs to know the existing table name and can do add, delete or modify tasks easily.\n",
    "\n",
    "Syntax –\n",
    "Syntax to add a column to an existing table.\n",
    "\n",
    "ALTER TABLE table_name\n",
    "ADD column_name datatype;\n",
    "\n",
    "Command-3 :\n",
    "TRUNCATE :\n",
    "This command is used to remove all rows from the table, but the structure of the table still exists.\n",
    "\n",
    "Syntax –\n",
    "Syntax to remove an existing table.\n",
    "\n",
    "TRUNCATE TABLE table_name;\n",
    "\n",
    "Command-4 :\n",
    "DROP :\n",
    "This command is used to remove an existing table along with its structure from the Database.\n",
    "\n",
    "Syntax –\n",
    "Syntax to drop an existing table.\n",
    "\n",
    "DROP TABLE table_name;"
   ]
  },
  {
   "cell_type": "markdown",
   "id": "7858574d-e5f9-4bc0-b5e3-71146c70d3b0",
   "metadata": {},
   "source": [
    "<h4>Q3. What is DML? Explain INSERT, UPDATE, and DELETE with an example."
   ]
  },
  {
   "cell_type": "markdown",
   "id": "d1cdf406-6f5b-43ee-b4a0-fd88fc0646c3",
   "metadata": {},
   "source": [
    "Ans. DML stands for Data Manipulation Language.It performs interpret-only data queries. It is used in a database schema to recall and manipulate the information. DML It is a dialect which is used to select, insert, delete and update data in a database. \n",
    "\n",
    "INSERT Command\n",
    "This command is used to enter the information or values into a row. We can connect one or more records to a single table within a repository using this instruction. This is often used to connect an unused tag to the documents.\n",
    "Syntax:\n",
    "INSERT INTO <table_name> ('column_name1' <datatype>, 'column_name2' <datatype>)\n",
    "VALUES ('value1', 'value2'); \n",
    "    \n",
    "UPDATE Command\n",
    "This command is used to alter existing table records. Within a table, it modifies data from one or more records. This command is used to alter the data which is already present in a table.\n",
    "Syntax:\n",
    "UPDATE <table_name>\n",
    "SET <column_name = value>\n",
    "WHERE condition; \n",
    "    \n",
    "\n",
    "DELETE Command\n",
    "It deletes all archives from a table. This command is used to erase some or all of the previous table’s records. If we do not specify the ‘WHERE’ condition then all the rows would be erased or deleted.\n",
    "Syntax:\n",
    "DELETE FROM <table_name>\n",
    "WHERE <condition>;     "
   ]
  },
  {
   "cell_type": "markdown",
   "id": "3c53816e-b6d9-427f-b45a-72e229d27693",
   "metadata": {},
   "source": [
    "<h4>Q4. What is DQL? Explain SELECT with an example."
   ]
  },
  {
   "cell_type": "markdown",
   "id": "429f3782-ecac-4d7f-8c59-1a1cd96ead4f",
   "metadata": {},
   "source": [
    "Ans. DQL is a portion of a SQL statement that allows you to get and organise data from a database. You can use the SELECT command to extract data from a database in order to perform actions on it.\n",
    "\n",
    "SELECT:\n",
    "The SELECT Statement in SQL is used to retrieve or fetch data from a database. \n",
    "We can fetch either the entire table or according to some specified rules. The data returned is stored in a result table. This result table is also called the result set. With the SELECT clause of a SELECT command statement, we specify the columns that we want to be displayed in the query result and, optionally, which column headings we prefer to see above the result table.\n",
    "Syntax\n",
    "SELECT expression FROM table_x WHERE code_conditions;\n",
    "Example\n",
    "SELECT Stu_Name FROM Student WHERE Phone = 9039462908;\n",
    "The command given above would select the record from the table ‘Student’ where the phone number is ‘9039462908’."
   ]
  },
  {
   "cell_type": "markdown",
   "id": "1e004f5c-b390-482c-bedb-cda8cc823b37",
   "metadata": {},
   "source": [
    "<h4>Q5. Explain Primary Key and Foreign Key."
   ]
  },
  {
   "cell_type": "markdown",
   "id": "6c6d6e73-3ee0-4868-b233-18ee093aab61",
   "metadata": {},
   "source": [
    "Ans.Primary Key:\n",
    "A primary key generally focuses on the uniqueness of the table. It assures the value in the specific column is unique. \n",
    "Foreign Key:\n",
    "A foreign key is generally used to build a relationship between the two tables."
   ]
  },
  {
   "cell_type": "markdown",
   "id": "0b8cd569-d0c9-47a3-aa6a-5c4be5811cec",
   "metadata": {},
   "source": [
    "<h4>Q6. Write a python code to connect MySQL to python. Explain the cursor() and execute() method."
   ]
  },
  {
   "cell_type": "code",
   "execution_count": null,
   "id": "d922d617-ac69-44f5-99b8-43a0b85ce74a",
   "metadata": {},
   "outputs": [],
   "source": [
    "import mysql.connector\n",
    "mydb=mysql.connector.connect(host=\"localhost\",user=\"root\",password=\"\")\n",
    "mycursor=mydb.cursor()\n",
    "mycursor.execute(\"Create database if not exists test\")\n",
    "mycursor.close()\n"
   ]
  },
  {
   "cell_type": "markdown",
   "id": "c66c8b28-e71a-4e29-a7be-331625c9d352",
   "metadata": {},
   "source": [
    "cursor():\n",
    "    You can create Cursor object using the cursor() method of the Connection object/class.\n",
    "execute():\n",
    "    This method accepts a MySQL query as a parameter and executes the given query."
   ]
  },
  {
   "cell_type": "markdown",
   "id": "def7f456-6a56-4271-8391-d94482610e31",
   "metadata": {},
   "source": [
    "<h4>Q7. Give the order of execution of SQL clauses in an SQL query."
   ]
  },
  {
   "cell_type": "markdown",
   "id": "6e74dbd1-07ac-46aa-9a53-d76740661bb3",
   "metadata": {},
   "source": [
    "Order\tClause\t          Function\n",
    "1\tFROM\t              Tables are joined to get the base data.\n",
    "2\tWHERE\t              The base data is filtered.\n",
    "3\tGROUP BY\t          The filtered base data is grouped.\n",
    "4\tHAVING\t              The grouped base data is filtered.\n",
    "5\tSELECT\t              The final data is returned.\n",
    "6\tORDER BY\t          The final data is sorted.\n",
    "7\tLIMIT\t              The returned data is limited to row count."
   ]
  }
 ],
 "metadata": {
  "kernelspec": {
   "display_name": "Python 3 (ipykernel)",
   "language": "python",
   "name": "python3"
  },
  "language_info": {
   "codemirror_mode": {
    "name": "ipython",
    "version": 3
   },
   "file_extension": ".py",
   "mimetype": "text/x-python",
   "name": "python",
   "nbconvert_exporter": "python",
   "pygments_lexer": "ipython3",
   "version": "3.10.8"
  }
 },
 "nbformat": 4,
 "nbformat_minor": 5
}
