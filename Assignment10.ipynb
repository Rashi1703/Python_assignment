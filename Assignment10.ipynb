{
 "cells": [
  {
   "cell_type": "markdown",
   "id": "0dffc462-08da-4f43-ad92-e18e22f64d26",
   "metadata": {},
   "source": [
    "Q1. What is multiprocessing in python? Why is it useful?"
   ]
  },
  {
   "cell_type": "markdown",
   "id": "9fe7466e-d7b3-4d6e-89f8-80db203d8b54",
   "metadata": {},
   "source": [
    "Ans. A multiprocessing module in Python allows controlling several processes easily. Hence, the concept of executing several processes simultaneously on a computer system in addition to several processing units refers to multiprocessing."
   ]
  },
  {
   "cell_type": "markdown",
   "id": "dec2d3a9-2f79-4d1a-a974-8b4973dd2eb6",
   "metadata": {},
   "source": [
    "Q2. What are the differences between multiprocessing and multithreading?"
   ]
  },
  {
   "cell_type": "markdown",
   "id": "45225dec-8985-41c8-9a0f-95f3f79edec4",
   "metadata": {},
   "source": [
    "Ans. Multiprocessing uses two or more CPUs to increase computing power, whereas multithreading uses a single process with multiple code segments to increase computing power. Multithreading focuses on generating computing threads from a single process, whereas multiprocessing increases computing power by adding CPUs."
   ]
  },
  {
   "cell_type": "markdown",
   "id": "3b130bfe-babf-441d-bf15-3dfbcf0e82fe",
   "metadata": {},
   "source": [
    "Q3. Write a python code to create a process using the multiprocessing module."
   ]
  },
  {
   "cell_type": "code",
   "execution_count": 6,
   "id": "9cb60de8-9c72-4d33-b724-f30f8e8cb1a7",
   "metadata": {},
   "outputs": [
    {
     "name": "stdout",
     "output_type": "stream",
     "text": [
      "this is my main prod\n",
      "this is my multiprocessing prog\n"
     ]
    }
   ],
   "source": [
    "import multiprocessing\n",
    "\n",
    "def test():\n",
    "    print(\"this is my multiprocessing prog\")\n",
    "\n",
    "if __name__ == \"__main__\":\n",
    "    m = multiprocessing.Process(target=test)\n",
    "    print(\"this is my main prod\")\n",
    "    m.start()\n",
    "    m.join()"
   ]
  },
  {
   "cell_type": "markdown",
   "id": "4f2adcb3-a60f-4b3c-9f33-5a9f3b9fa366",
   "metadata": {},
   "source": [
    "Q4. What is a multiprocessing pool in python? Why is it used?"
   ]
  },
  {
   "cell_type": "markdown",
   "id": "06f0bd25-7588-488a-be1a-238220d520db",
   "metadata": {},
   "source": [
    "Ans. Python multiprocessing Pool can be used for parallel execution of a function across multiple input values, distributing the input data across processes (data parallelism).\n",
    "The Python multiprocessing module allows you to create and manage new child processes in Python. "
   ]
  },
  {
   "cell_type": "markdown",
   "id": "850102d2-f576-4945-a4b9-207c1de88022",
   "metadata": {},
   "source": [
    "Q5. How can we create a pool of worker processes in python using the multiprocessing module?"
   ]
  },
  {
   "cell_type": "code",
   "execution_count": 7,
   "id": "b82ad91b-b8a5-4bcb-bd61-4e4bb654e4f2",
   "metadata": {},
   "outputs": [
    {
     "name": "stdout",
     "output_type": "stream",
     "text": [
      "<multiprocessing.pool.Pool state=RUN pool_size=64>\n",
      "64\n",
      "64\n"
     ]
    }
   ],
   "source": [
    "\n",
    "from multiprocessing.pool import Pool\n",
    "from multiprocessing import active_children\n",
    " \n",
    "# protect the entry point\n",
    "if __name__ == '__main__':\n",
    "    # create a process pool with the default number of workers\n",
    "    pool = Pool()\n",
    "    # report the status of the process pool\n",
    "    print(pool)\n",
    "    # report the number of processes in the pool\n",
    "    print(pool._processes)\n",
    "    # report the number of active child processes\n",
    "    children = active_children()\n",
    "    print(len(children))"
   ]
  },
  {
   "cell_type": "markdown",
   "id": "e4e4477c-d546-4da2-9100-f4678e98bdb4",
   "metadata": {},
   "source": [
    "Q6. Write a python program to create 4 processes, each process should print a different number using the\n",
    "multiprocessing module in python."
   ]
  },
  {
   "cell_type": "code",
   "execution_count": null,
   "id": "be208fd4-e0cd-47a3-aea4-084c4dd26360",
   "metadata": {},
   "outputs": [],
   "source": [
    "from multiprocessing import Process\n",
    "def print_func(continent='Asia'):\n",
    "    print('The name of continent is : ', continent)\n",
    "if __name__ == \"__main__\":  # confirms that the code is under main function\n",
    "    names = ['America', 'Europe', 'Africa']\n",
    "    procs = []\n",
    "    proc = Process(target=print_func)  # instantiating without any argument\n",
    "    procs.append(proc)\n",
    "    proc.start()\n",
    "    # instantiating process with arguments\n",
    "    for name in names:\n",
    "        # print(name)\n",
    "        proc = Process(target=print_func, args=(name,))\n",
    "        procs.append(proc)\n",
    "        proc.start()\n",
    "    # complete the processes\n",
    "    for proc in procs:\n",
    "        proc.join()"
   ]
  }
 ],
 "metadata": {
  "kernelspec": {
   "display_name": "Python 3 (ipykernel)",
   "language": "python",
   "name": "python3"
  },
  "language_info": {
   "codemirror_mode": {
    "name": "ipython",
    "version": 3
   },
   "file_extension": ".py",
   "mimetype": "text/x-python",
   "name": "python",
   "nbconvert_exporter": "python",
   "pygments_lexer": "ipython3",
   "version": "3.10.8"
  }
 },
 "nbformat": 4,
 "nbformat_minor": 5
}
