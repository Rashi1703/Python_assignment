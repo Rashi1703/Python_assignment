{
 "cells": [
  {
   "cell_type": "markdown",
   "id": "be278127-6114-43ee-a0f7-4f1afc9d32de",
   "metadata": {},
   "source": [
    "Q1. What is an Exception in python? Write the difference between Exceptions and Syntax errors?"
   ]
  },
  {
   "cell_type": "markdown",
   "id": "282cf1ca-55f4-4391-bab1-299b390778e8",
   "metadata": {},
   "source": [
    "Ans. Exception--An exception is an event, which occurs during the execution of a program that disrupts the normal flow of the program's instructions.\n",
    "     Difference-\n",
    "A syntax error occurs when the structure of a program does not conform to the rules of the programming language. Syntax errors are usually detected by the compiler or interpreter when the program is being compiled or executed, and they prevent the program from running. Syntax errors are usually caused by mistakes in the source code, such as typos, omissions, or incorrect use of syntax.\n",
    "\n",
    "An exception is an abnormal event that occurs during the execution of a program. Exceptions are usually caused by runtime errors, such as dividing by zero, trying to access an element in an array with an out-of-bounds index, or trying to access a file that does not exist. Exceptions are not syntax errors, but they can still prevent the program from running if they are not handled properly."
   ]
  },
  {
   "cell_type": "markdown",
   "id": "fda6e1c3-7ec6-42df-b9ea-7134e5dcb8b4",
   "metadata": {},
   "source": [
    "Q2. What happens when an exception is not handled ?Explain with an example?"
   ]
  },
  {
   "cell_type": "markdown",
   "id": "b2513fa0-d499-4646-98cb-dfac3cff06e7",
   "metadata": {},
   "source": [
    "Ans. When an exception occurred, if you don't handle it, the program terminates abruptly and the code past the line that caused the exception will not get executed."
   ]
  },
  {
   "cell_type": "code",
   "execution_count": 1,
   "id": "782fb09d-6708-4143-a61d-c16f70368732",
   "metadata": {},
   "outputs": [
    {
     "ename": "ZeroDivisionError",
     "evalue": "division by zero",
     "output_type": "error",
     "traceback": [
      "\u001b[0;31m---------------------------------------------------------------------------\u001b[0m",
      "\u001b[0;31mZeroDivisionError\u001b[0m                         Traceback (most recent call last)",
      "Cell \u001b[0;32mIn[1], line 5\u001b[0m\n\u001b[1;32m      2\u001b[0m marks \u001b[38;5;241m=\u001b[39m \u001b[38;5;241m10000\u001b[39m\n\u001b[1;32m      4\u001b[0m \u001b[38;5;66;03m# perform division with 0\u001b[39;00m\n\u001b[0;32m----> 5\u001b[0m a \u001b[38;5;241m=\u001b[39m \u001b[43mmarks\u001b[49m\u001b[43m \u001b[49m\u001b[38;5;241;43m/\u001b[39;49m\u001b[43m \u001b[49m\u001b[38;5;241;43m0\u001b[39;49m\n\u001b[1;32m      6\u001b[0m \u001b[38;5;28mprint\u001b[39m(a)\n",
      "\u001b[0;31mZeroDivisionError\u001b[0m: division by zero"
     ]
    }
   ],
   "source": [
    "# initialize the amount variable\n",
    "marks = 10000\n",
    " \n",
    "# perform division with 0\n",
    "a = marks / 0\n",
    "print(a)"
   ]
  },
  {
   "cell_type": "markdown",
   "id": "fa63df28-6fc6-4e1c-ba7e-fdf7d23f2d11",
   "metadata": {},
   "source": [
    "Q3. Which Python statements are used to catch and handle exceptions? Explain with an example."
   ]
  },
  {
   "cell_type": "markdown",
   "id": "ed0208b2-5e51-4206-96ea-1d05cb849467",
   "metadata": {},
   "source": [
    "Ans. The try and except block in Python is used to catch and handle exceptions.\n",
    "     Example:"
   ]
  },
  {
   "cell_type": "code",
   "execution_count": 3,
   "id": "1908ff8d-299f-41c6-bb9c-9858e1cce03c",
   "metadata": {},
   "outputs": [
    {
     "name": "stdout",
     "output_type": "stream",
     "text": [
      "Error\n"
     ]
    }
   ],
   "source": [
    "try:\n",
    "    a=10/0\n",
    "except:\n",
    "    print(\"Error\")"
   ]
  },
  {
   "cell_type": "markdown",
   "id": "9377e155-e5fe-4a1e-b578-b992377caf73",
   "metadata": {},
   "source": [
    "Q4. Explain with an example:\n",
    "    (a) try and else\n",
    "    (b) finally\n",
    "    (c) raise"
   ]
  },
  {
   "cell_type": "markdown",
   "id": "061ebea0-cb50-4481-9f7c-fb21216fb7bc",
   "metadata": {},
   "source": [
    "Ans. (a) try and else--\n",
    "The code enters the else block only if the try clause does not raise an exception.\n",
    "Example: Else block will execute only when no exception occurs."
   ]
  },
  {
   "cell_type": "code",
   "execution_count": 5,
   "id": "1135fd29-9b47-4d3d-ac97-afae6ee0ad7d",
   "metadata": {},
   "outputs": [
    {
     "name": "stdout",
     "output_type": "stream",
     "text": [
      "5.0\n"
     ]
    }
   ],
   "source": [
    "try:\n",
    "    a=10/2\n",
    "except:\n",
    "    print(\"Division by Zero\")\n",
    "else:\n",
    "    print(a)"
   ]
  },
  {
   "cell_type": "markdown",
   "id": "78483f41-5aac-4bee-b89b-6772dbf13a26",
   "metadata": {},
   "source": [
    "(b) finally--\n",
    "Python provides a keyword finally, which is always executed after try and except blocks. The finally block always executes after normal termination of try block or after try block terminates due to some exception. Even if you return in the except block still the finally block will execute"
   ]
  },
  {
   "cell_type": "code",
   "execution_count": 6,
   "id": "d2775e74-ec73-4f1c-a11a-454b9ec7fb3b",
   "metadata": {},
   "outputs": [
    {
     "name": "stdout",
     "output_type": "stream",
     "text": [
      "Error division by zero\n",
      "End of Execution\n"
     ]
    }
   ],
   "source": [
    "try:\n",
    "    a=10/0\n",
    "except Exception as e:\n",
    "    print(\"Error\",e)\n",
    "else:\n",
    "    print(a)\n",
    "finally:\n",
    "    print(\"End of Execution\")"
   ]
  },
  {
   "cell_type": "markdown",
   "id": "5dbe3674-3956-467c-909a-add35cfc5c3c",
   "metadata": {},
   "source": [
    "(c) raise\n",
    "To throw (or raise) an exception,we use the raise keyword."
   ]
  },
  {
   "cell_type": "code",
   "execution_count": 7,
   "id": "263423dd-8ec6-40ac-9af8-88d5462743fa",
   "metadata": {},
   "outputs": [
    {
     "ename": "Exception",
     "evalue": "Sorry, no numbers below zero",
     "output_type": "error",
     "traceback": [
      "\u001b[0;31m---------------------------------------------------------------------------\u001b[0m",
      "\u001b[0;31mException\u001b[0m                                 Traceback (most recent call last)",
      "Cell \u001b[0;32mIn[7], line 3\u001b[0m\n\u001b[1;32m      1\u001b[0m x \u001b[38;5;241m=\u001b[39m \u001b[38;5;241m-\u001b[39m\u001b[38;5;241m1\u001b[39m\n\u001b[1;32m      2\u001b[0m \u001b[38;5;28;01mif\u001b[39;00m x \u001b[38;5;241m<\u001b[39m \u001b[38;5;241m0\u001b[39m:\n\u001b[0;32m----> 3\u001b[0m   \u001b[38;5;28;01mraise\u001b[39;00m \u001b[38;5;167;01mException\u001b[39;00m(\u001b[38;5;124m\"\u001b[39m\u001b[38;5;124mSorry, no numbers below zero\u001b[39m\u001b[38;5;124m\"\u001b[39m)\n",
      "\u001b[0;31mException\u001b[0m: Sorry, no numbers below zero"
     ]
    }
   ],
   "source": [
    "x = -1\n",
    "if x < 0:\n",
    "  raise Exception(\"Sorry, no numbers below zero\")"
   ]
  },
  {
   "cell_type": "markdown",
   "id": "c6711852-50e5-407d-b03a-2f0416fab9a9",
   "metadata": {},
   "source": [
    "Q5. What are Custom Exceptions in python? Why do we need Custom Exceptions? Explain with an example"
   ]
  },
  {
   "cell_type": "markdown",
   "id": "16a7884f-54f7-464d-9fd9-329b6b75094b",
   "metadata": {},
   "source": [
    "Ans. In Python, you can create a custom exception by defining a new class that inherits from the built-in `Exception` class or one of its subclasses. To raise the custom exception, you can use the `raise` keyword followed by an instance of your custom exception class."
   ]
  },
  {
   "cell_type": "code",
   "execution_count": 8,
   "id": "9e0ba711-9030-465d-8c47-c7d047968521",
   "metadata": {},
   "outputs": [
    {
     "name": "stdin",
     "output_type": "stream",
     "text": [
      "Enter number: -5\n"
     ]
    },
    {
     "name": "stdout",
     "output_type": "stream",
     "text": [
      "Negative Number\n"
     ]
    }
   ],
   "source": [
    "class positive(Exception):\n",
    "    def __init__(self,msg):\n",
    "        self.msg=msg\n",
    "def number(n):\n",
    "    if n<0:\n",
    "        raise positive(\"Negative Number\")\n",
    "    else:\n",
    "        print(\"Positive number\")\n",
    "try:\n",
    "    n=int(input(\"Enter number:\"))\n",
    "    number(n)\n",
    "except positive as p:\n",
    "    print(p)"
   ]
  },
  {
   "cell_type": "markdown",
   "id": "68ca4ec2-2a17-4aa1-a116-c21656d3fa7b",
   "metadata": {},
   "source": [
    "Q6. Create custom exception clss. Use this class to handle an exception."
   ]
  },
  {
   "cell_type": "code",
   "execution_count": null,
   "id": "339fd90f-0cfc-4e33-b936-02f0ac07edb5",
   "metadata": {},
   "outputs": [],
   "source": []
  }
 ],
 "metadata": {
  "kernelspec": {
   "display_name": "Python 3 (ipykernel)",
   "language": "python",
   "name": "python3"
  },
  "language_info": {
   "codemirror_mode": {
    "name": "ipython",
    "version": 3
   },
   "file_extension": ".py",
   "mimetype": "text/x-python",
   "name": "python",
   "nbconvert_exporter": "python",
   "pygments_lexer": "ipython3",
   "version": "3.10.8"
  }
 },
 "nbformat": 4,
 "nbformat_minor": 5
}
