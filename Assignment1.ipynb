{
 "cells": [
  {
   "cell_type": "raw",
   "id": "657743cd-a9b5-4381-bfc4-d7b6bc5521be",
   "metadata": {},
   "source": [
    "'''\n",
    "Q1. Create one variable containing following type of data:\n",
    "(i)String\n",
    "(ii) list\n",
    "(iii) float\n",
    "(iv) tuple\n",
    "'''\n",
    "Str_var=\"PWSKILL\"\n",
    "Str_var\n",
    "list_var=[1,2,3,4]\n",
    "list_var\n",
    "float_var=100.5\n",
    "float_var\n",
    "tuple_var=(1,2,3,4)\n",
    "tuple_var\n"
   ]
  },
  {
   "cell_type": "raw",
   "id": "9aa63d9b-21c4-4337-9903-e8d50f01e293",
   "metadata": {},
   "source": [
    "'''\n",
    "Q2. Given are some following variables containing data:\n",
    "(i) var1 = ‘ ‘\n",
    "(ii) var2 = ‘[ DS , ML , Python]’\n",
    "(iii) var3 = [ ‘DS’ , ’ML’ , ‘Python’ ]\n",
    "(iv) var4 = 1.\n",
    "What will be the data type of the above given variable.\n",
    "\n",
    "Ans.  var1 ---String\n",
    "      var2 ---String\n",
    "      var3 ---list\n",
    "      var4 ---int\n",
    "'''"
   ]
  },
  {
   "cell_type": "raw",
   "id": "f960db48-54eb-4a1f-a26b-cb54004d051c",
   "metadata": {},
   "source": [
    "'''\n",
    "Q3. Explain the use of the following operators using an example:\n",
    "(i) /\n",
    "(ii) %\n",
    "(iii) //\n",
    "(iv) **\n",
    "\n",
    "Ans. (i) /---\tDivision operator   \n",
    "                ex.  4 / 2 = 2\n",
    "     (ii) %---\tModulo operator   \n",
    "                ex.  4 % 2 = 0\n",
    "     (iii) //---Floor Division operator   \n",
    "                ex.  5 // 2 = 2\n",
    "     (iv) **---\tPower operator   \n",
    "                ex.  4 ** 2 = 16\n",
    "'''"
   ]
  },
  {
   "cell_type": "code",
   "execution_count": 10,
   "id": "2eda03c3-6f9b-4ec5-9174-61587b01524b",
   "metadata": {},
   "outputs": [
    {
     "name": "stdout",
     "output_type": "stream",
     "text": [
      "1 --- <class 'int'>\n",
      "2 --- <class 'int'>\n",
      "3 --- <class 'int'>\n",
      "a --- <class 'str'>\n",
      "b --- <class 'str'>\n",
      "1.5 --- <class 'float'>\n",
      "True --- <class 'bool'>\n",
      "False --- <class 'bool'>\n",
      "[1, 2, 3] --- <class 'list'>\n",
      "(1, 2, 3, 4) --- <class 'tuple'>\n"
     ]
    }
   ],
   "source": [
    "'''\n",
    "Q4. Create a list of length 10 of your choice containing multiple types of data. Using for loop print the\n",
    "element and its data type.\n",
    "'''\n",
    "l=[1,2,3,\"a\",\"b\",1.5,True,False,[1,2,3],(1,2,3,4)]\n",
    "for x in l:\n",
    "    print(x,\"---\",type(x))\n"
   ]
  },
  {
   "cell_type": "code",
   "execution_count": 13,
   "id": "317ed904-bf64-427f-bb9f-de45c5345e5f",
   "metadata": {},
   "outputs": [
    {
     "name": "stdout",
     "output_type": "stream",
     "text": [
      "5\n"
     ]
    }
   ],
   "source": [
    "'''\n",
    "Q5. Using a while loop, verify if the number A is purely divisible by number B and if so then how many\n",
    "times it can be divisible.\n",
    "'''\n",
    "A=10\n",
    "B=2\n",
    "if A%B==0:\n",
    "    print((int)(A/B))"
   ]
  },
  {
   "cell_type": "code",
   "execution_count": 15,
   "id": "2d4522dd-5d5e-4511-8e70-9774a3292acf",
   "metadata": {},
   "outputs": [
    {
     "name": "stdout",
     "output_type": "stream",
     "text": [
      "1 --- is not divisible by 3\n",
      "2 --- is not divisible by 3\n",
      "3 --- is divisible by 3\n",
      "4 --- is not divisible by 3\n",
      "5 --- is not divisible by 3\n",
      "6 --- is divisible by 3\n",
      "7 --- is not divisible by 3\n",
      "8 --- is not divisible by 3\n",
      "9 --- is divisible by 3\n",
      "10 --- is not divisible by 3\n",
      "11 --- is not divisible by 3\n",
      "12 --- is divisible by 3\n",
      "13 --- is not divisible by 3\n",
      "14 --- is not divisible by 3\n",
      "15 --- is divisible by 3\n",
      "16 --- is not divisible by 3\n",
      "17 --- is not divisible by 3\n",
      "18 --- is divisible by 3\n",
      "19 --- is not divisible by 3\n",
      "20 --- is not divisible by 3\n",
      "21 --- is divisible by 3\n",
      "22 --- is not divisible by 3\n",
      "23 --- is not divisible by 3\n",
      "24 --- is divisible by 3\n",
      "25 --- is not divisible by 3\n"
     ]
    }
   ],
   "source": [
    "'''\n",
    "Q(6) Create a list containing 25 int type data. Using for loop and if-else condition print if the element is\n",
    "divisible by 3 or not.\n",
    "'''\n",
    "l=[1,2,3,4,5,6,7,8,9,10,11,12,13,14,15,16,17,18,19,20,21,22,23,24,25]\n",
    "for x in l:\n",
    "    if x%3==0:\n",
    "        print(x,\"--- is divisible by 3\")\n",
    "    else:\n",
    "        print(x,\"--- is not divisible by 3\")"
   ]
  },
  {
   "cell_type": "raw",
   "id": "c379a900-b079-4fef-b8d1-c5c2676957eb",
   "metadata": {},
   "source": [
    "'''\n",
    "Q7. What do you understand about mutable and immutable data types? Give examples for both showing\n",
    "this property.\n",
    "\n",
    "Ans. Mutable data types:\n",
    "Mutable datatypes are objects that can be modified or altered after they have been created .\n",
    "Ex.  List, Set, Dictionary\n",
    "\n",
    "Immutable data types:\n",
    "Immutable datatypes are objects that cannot be modified or altered after they have been created .\n",
    "Ex. tuples, int, float, bool\n",
    "'''"
   ]
  }
 ],
 "metadata": {
  "kernelspec": {
   "display_name": "Python 3 (ipykernel)",
   "language": "python",
   "name": "python3"
  },
  "language_info": {
   "codemirror_mode": {
    "name": "ipython",
    "version": 3
   },
   "file_extension": ".py",
   "mimetype": "text/x-python",
   "name": "python",
   "nbconvert_exporter": "python",
   "pygments_lexer": "ipython3",
   "version": "3.10.8"
  }
 },
 "nbformat": 4,
 "nbformat_minor": 5
}
