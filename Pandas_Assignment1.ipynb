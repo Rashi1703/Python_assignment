{
 "cells": [
  {
   "cell_type": "markdown",
   "id": "9cf29e75-d984-4dde-ab7d-3583113c4353",
   "metadata": {},
   "source": [
    "<h4>Q1. Create a Pandas Series that contains the following data: 4, 8, 15, 16, 23, and 42. Then, print the series."
   ]
  },
  {
   "cell_type": "code",
   "execution_count": 1,
   "id": "7218c163-48e9-48c5-9568-2b89d22e6fdf",
   "metadata": {},
   "outputs": [],
   "source": [
    "import pandas as pd"
   ]
  },
  {
   "cell_type": "code",
   "execution_count": 4,
   "id": "d7771b6a-9ba0-4ed0-85b9-3ca174e84ae4",
   "metadata": {},
   "outputs": [
    {
     "data": {
      "text/plain": [
       "0     4\n",
       "1     8\n",
       "2    15\n",
       "3    16\n",
       "4    23\n",
       "5    42\n",
       "dtype: int64"
      ]
     },
     "execution_count": 4,
     "metadata": {},
     "output_type": "execute_result"
    }
   ],
   "source": [
    "list1=[4,8,15,16,23,42]\n",
    "ser=pd.Series(list1)\n",
    "ser"
   ]
  },
  {
   "cell_type": "markdown",
   "id": "8f1a91a2-a987-4b46-9acd-41e1cffe317e",
   "metadata": {},
   "source": [
    "<h4>Q2. Create a variable of list type containing 10 elements in it, and apply pandas.Series function on the\n",
    "variable print it."
   ]
  },
  {
   "cell_type": "code",
   "execution_count": 5,
   "id": "34d7f537-80fd-4d64-a3cf-29de8bb2dbe7",
   "metadata": {},
   "outputs": [
    {
     "data": {
      "text/plain": [
       "0     1\n",
       "1     2\n",
       "2     3\n",
       "3     4\n",
       "4     5\n",
       "5     6\n",
       "6     7\n",
       "7     8\n",
       "8     9\n",
       "9    10\n",
       "dtype: int64"
      ]
     },
     "execution_count": 5,
     "metadata": {},
     "output_type": "execute_result"
    }
   ],
   "source": [
    "list2=[1,2,3,4,5,6,7,8,9,10]\n",
    "ser=pd.Series(list2)\n",
    "ser"
   ]
  },
  {
   "cell_type": "markdown",
   "id": "2359c2a2-1d14-4b4f-8793-52e414581b0e",
   "metadata": {},
   "source": [
    "<h4>Q3. Create a Pandas DataFrame that contains the following data:\n",
    "    then print that dataframe"
   ]
  },
  {
   "cell_type": "code",
   "execution_count": 6,
   "id": "9b1fda15-a2f4-4d9b-bed6-daf466ad72a6",
   "metadata": {},
   "outputs": [
    {
     "data": {
      "text/html": [
       "<div>\n",
       "<style scoped>\n",
       "    .dataframe tbody tr th:only-of-type {\n",
       "        vertical-align: middle;\n",
       "    }\n",
       "\n",
       "    .dataframe tbody tr th {\n",
       "        vertical-align: top;\n",
       "    }\n",
       "\n",
       "    .dataframe thead th {\n",
       "        text-align: right;\n",
       "    }\n",
       "</style>\n",
       "<table border=\"1\" class=\"dataframe\">\n",
       "  <thead>\n",
       "    <tr style=\"text-align: right;\">\n",
       "      <th></th>\n",
       "      <th>Name</th>\n",
       "      <th>Age</th>\n",
       "      <th>Gender</th>\n",
       "    </tr>\n",
       "  </thead>\n",
       "  <tbody>\n",
       "    <tr>\n",
       "      <th>0</th>\n",
       "      <td>Alice</td>\n",
       "      <td>25</td>\n",
       "      <td>Female</td>\n",
       "    </tr>\n",
       "    <tr>\n",
       "      <th>1</th>\n",
       "      <td>Bob</td>\n",
       "      <td>30</td>\n",
       "      <td>Male</td>\n",
       "    </tr>\n",
       "    <tr>\n",
       "      <th>2</th>\n",
       "      <td>Claire</td>\n",
       "      <td>27</td>\n",
       "      <td>Female</td>\n",
       "    </tr>\n",
       "  </tbody>\n",
       "</table>\n",
       "</div>"
      ],
      "text/plain": [
       "     Name  Age  Gender\n",
       "0   Alice   25  Female\n",
       "1     Bob   30    Male\n",
       "2  Claire   27  Female"
      ]
     },
     "execution_count": 6,
     "metadata": {},
     "output_type": "execute_result"
    }
   ],
   "source": [
    "dict={\"Name\":[\"Alice\",\"Bob\",\"Claire\"],\"Age\":[25,30,27],\"Gender\":[\"Female\",\"Male\",\"Female\"]}\n",
    "df=pd.DataFrame(dict)\n",
    "df"
   ]
  },
  {
   "cell_type": "markdown",
   "id": "351f93d7-0bde-4d94-9138-b90ca792ed7d",
   "metadata": {},
   "source": [
    "<h4>Q4. What is ‘DataFrame’ in pandas and how is it different from pandas.series? Explain with an example."
   ]
  },
  {
   "cell_type": "markdown",
   "id": "d8dd76ba-8948-413d-88e0-861d397e7a27",
   "metadata": {},
   "source": [
    "Ans. Data sets in Pandas are usually multi-dimensional tables, called DataFrames.\n",
    "Series can only contain single list with index, whereas dataframe can be made of more than one series or we can say that a dataframe is a collection of series that can be used to analyse the data."
   ]
  },
  {
   "cell_type": "code",
   "execution_count": 7,
   "id": "79e44386-2a55-4f34-8788-5d97ab58266a",
   "metadata": {},
   "outputs": [
    {
     "data": {
      "text/html": [
       "<div>\n",
       "<style scoped>\n",
       "    .dataframe tbody tr th:only-of-type {\n",
       "        vertical-align: middle;\n",
       "    }\n",
       "\n",
       "    .dataframe tbody tr th {\n",
       "        vertical-align: top;\n",
       "    }\n",
       "\n",
       "    .dataframe thead th {\n",
       "        text-align: right;\n",
       "    }\n",
       "</style>\n",
       "<table border=\"1\" class=\"dataframe\">\n",
       "  <thead>\n",
       "    <tr style=\"text-align: right;\">\n",
       "      <th></th>\n",
       "      <th>Class 1</th>\n",
       "      <th>Class 2</th>\n",
       "      <th>Class 3</th>\n",
       "    </tr>\n",
       "  </thead>\n",
       "  <tbody>\n",
       "    <tr>\n",
       "      <th>math avg</th>\n",
       "      <td>22</td>\n",
       "      <td>45</td>\n",
       "      <td>32</td>\n",
       "    </tr>\n",
       "    <tr>\n",
       "      <th>science avg</th>\n",
       "      <td>33</td>\n",
       "      <td>28</td>\n",
       "      <td>41</td>\n",
       "    </tr>\n",
       "    <tr>\n",
       "      <th>english avg</th>\n",
       "      <td>38</td>\n",
       "      <td>36</td>\n",
       "      <td>47</td>\n",
       "    </tr>\n",
       "  </tbody>\n",
       "</table>\n",
       "</div>"
      ],
      "text/plain": [
       "             Class 1  Class 2  Class 3\n",
       "math avg          22       45       32\n",
       "science avg       33       28       41\n",
       "english avg       38       36       47"
      ]
     },
     "execution_count": 7,
     "metadata": {},
     "output_type": "execute_result"
    }
   ],
   "source": [
    "# Creating a DataFrame from a dictionary of Series\n",
    "data = pd.DataFrame({\n",
    "    \"Class 1\": pd.Series([22, 33, 38], index=[\"math avg\", \"science avg\",  \"english avg\"]),\n",
    "    \"Class 2\": pd.Series([45, 28, 36], index=[\"math avg\", \"science avg\",  \"english avg\"]),\n",
    "    \"Class 3\": pd.Series([32, 41, 47], index=[\"math avg\", \"science avg\",  \"english avg\"])\n",
    "})\n",
    " \n",
    "data "
   ]
  },
  {
   "cell_type": "code",
   "execution_count": 8,
   "id": "24385b19-1408-4ee0-8700-1dc1e714f24a",
   "metadata": {},
   "outputs": [
    {
     "data": {
      "text/html": [
       "<div>\n",
       "<style scoped>\n",
       "    .dataframe tbody tr th:only-of-type {\n",
       "        vertical-align: middle;\n",
       "    }\n",
       "\n",
       "    .dataframe tbody tr th {\n",
       "        vertical-align: top;\n",
       "    }\n",
       "\n",
       "    .dataframe thead th {\n",
       "        text-align: right;\n",
       "    }\n",
       "</style>\n",
       "<table border=\"1\" class=\"dataframe\">\n",
       "  <thead>\n",
       "    <tr style=\"text-align: right;\">\n",
       "      <th></th>\n",
       "      <th>Class 1</th>\n",
       "      <th>Class 2</th>\n",
       "      <th>Class 3</th>\n",
       "    </tr>\n",
       "  </thead>\n",
       "  <tbody>\n",
       "    <tr>\n",
       "      <th>math avg</th>\n",
       "      <td>22</td>\n",
       "      <td>45</td>\n",
       "      <td>32</td>\n",
       "    </tr>\n",
       "    <tr>\n",
       "      <th>science avg</th>\n",
       "      <td>33</td>\n",
       "      <td>28</td>\n",
       "      <td>41</td>\n",
       "    </tr>\n",
       "    <tr>\n",
       "      <th>english avg</th>\n",
       "      <td>38</td>\n",
       "      <td>36</td>\n",
       "      <td>47</td>\n",
       "    </tr>\n",
       "  </tbody>\n",
       "</table>\n",
       "</div>"
      ],
      "text/plain": [
       "             Class 1  Class 2  Class 3\n",
       "math avg          22       45       32\n",
       "science avg       33       28       41\n",
       "english avg       38       36       47"
      ]
     },
     "execution_count": 8,
     "metadata": {},
     "output_type": "execute_result"
    }
   ],
   "source": [
    "#Creating a DataFrame from a dictionary of lists\n",
    "data = {\n",
    "    \"Class 1\": [22, 33, 38],\n",
    "    \"Class 2\": [45, 28, 36], \n",
    "    \"Class 3\": [32, 41, 47]\n",
    "}\n",
    "df = pd.DataFrame(data=data, index=['math avg', 'science avg', 'english avg'])\n",
    " \n",
    "df"
   ]
  },
  {
   "cell_type": "markdown",
   "id": "57dde61e-74ee-4de2-a742-f698a6730279",
   "metadata": {},
   "source": [
    "<h4>Q5. What are some common functions you can use to manipulate data in a Pandas DataFrame? Can\n",
    "you give an example of when you might use one of these functions?"
   ]
  },
  {
   "cell_type": "code",
   "execution_count": 14,
   "id": "32006ac3-4dad-46fc-be0b-604a1762be72",
   "metadata": {},
   "outputs": [],
   "source": [
    "# (1) read_csv\n",
    "df1=pd.read_csv(\"text.csv\")"
   ]
  },
  {
   "cell_type": "code",
   "execution_count": 16,
   "id": "e9a23c09-96b0-428e-9595-d714fb77b92c",
   "metadata": {},
   "outputs": [],
   "source": [
    "# (2)head\n",
    "df1.head()"
   ]
  },
  {
   "cell_type": "code",
   "execution_count": null,
   "id": "58e3ad79-ce70-41c1-8875-04d5ce1f10cf",
   "metadata": {},
   "outputs": [],
   "source": [
    "# (3) tail\n",
    "df1.tail()"
   ]
  },
  {
   "cell_type": "code",
   "execution_count": 18,
   "id": "e16d86e4-6136-4e70-b6f5-f6a8ffab25a1",
   "metadata": {},
   "outputs": [],
   "source": [
    "# (4) describe\n",
    "df1.describe()"
   ]
  },
  {
   "cell_type": "code",
   "execution_count": 20,
   "id": "f5ad0dbb-1985-4364-a8b4-93c678fb2b7f",
   "metadata": {},
   "outputs": [],
   "source": [
    "# (5) columns\n",
    "df1.columns"
   ]
  },
  {
   "cell_type": "markdown",
   "id": "ad402715-7de7-46c4-9efa-c6336dff8419",
   "metadata": {},
   "source": [
    "<h4>Q6. Which of the following is mutable in nature Series, DataFrame, Panel?"
   ]
  },
  {
   "cell_type": "markdown",
   "id": "a3b08021-57bc-4527-a68e-6095f554bc81",
   "metadata": {},
   "source": [
    "Ans. DataFrame and Panel are mutable"
   ]
  },
  {
   "cell_type": "markdown",
   "id": "3988e6c3-17bf-4d6b-8a49-0e5816e88711",
   "metadata": {},
   "source": [
    "<h4>Q7. Create a DataFrame using multiple Series. Explain with an example."
   ]
  },
  {
   "cell_type": "code",
   "execution_count": 21,
   "id": "eb09f1f8-6856-4636-abaf-d21ccd53f784",
   "metadata": {},
   "outputs": [
    {
     "data": {
      "text/html": [
       "<div>\n",
       "<style scoped>\n",
       "    .dataframe tbody tr th:only-of-type {\n",
       "        vertical-align: middle;\n",
       "    }\n",
       "\n",
       "    .dataframe tbody tr th {\n",
       "        vertical-align: top;\n",
       "    }\n",
       "\n",
       "    .dataframe thead th {\n",
       "        text-align: right;\n",
       "    }\n",
       "</style>\n",
       "<table border=\"1\" class=\"dataframe\">\n",
       "  <thead>\n",
       "    <tr style=\"text-align: right;\">\n",
       "      <th></th>\n",
       "      <th>Class 1</th>\n",
       "      <th>Class 2</th>\n",
       "      <th>Class 3</th>\n",
       "    </tr>\n",
       "  </thead>\n",
       "  <tbody>\n",
       "    <tr>\n",
       "      <th>math avg</th>\n",
       "      <td>22</td>\n",
       "      <td>45</td>\n",
       "      <td>32</td>\n",
       "    </tr>\n",
       "    <tr>\n",
       "      <th>science avg</th>\n",
       "      <td>33</td>\n",
       "      <td>28</td>\n",
       "      <td>41</td>\n",
       "    </tr>\n",
       "    <tr>\n",
       "      <th>english avg</th>\n",
       "      <td>38</td>\n",
       "      <td>36</td>\n",
       "      <td>47</td>\n",
       "    </tr>\n",
       "  </tbody>\n",
       "</table>\n",
       "</div>"
      ],
      "text/plain": [
       "             Class 1  Class 2  Class 3\n",
       "math avg          22       45       32\n",
       "science avg       33       28       41\n",
       "english avg       38       36       47"
      ]
     },
     "execution_count": 21,
     "metadata": {},
     "output_type": "execute_result"
    }
   ],
   "source": [
    "data = pd.DataFrame({\n",
    "    \"Class 1\": pd.Series([22, 33, 38], index=[\"math avg\", \"science avg\",  \"english avg\"]),\n",
    "    \"Class 2\": pd.Series([45, 28, 36], index=[\"math avg\", \"science avg\",  \"english avg\"]),\n",
    "    \"Class 3\": pd.Series([32, 41, 47], index=[\"math avg\", \"science avg\",  \"english avg\"])\n",
    "})\n",
    " \n",
    "data "
   ]
  },
  {
   "cell_type": "code",
   "execution_count": null,
   "id": "a0174487-bbe5-4073-8ed6-c1bdd74297b1",
   "metadata": {},
   "outputs": [],
   "source": []
  }
 ],
 "metadata": {
  "kernelspec": {
   "display_name": "Python 3 (ipykernel)",
   "language": "python",
   "name": "python3"
  },
  "language_info": {
   "codemirror_mode": {
    "name": "ipython",
    "version": 3
   },
   "file_extension": ".py",
   "mimetype": "text/x-python",
   "name": "python",
   "nbconvert_exporter": "python",
   "pygments_lexer": "ipython3",
   "version": "3.10.8"
  }
 },
 "nbformat": 4,
 "nbformat_minor": 5
}
